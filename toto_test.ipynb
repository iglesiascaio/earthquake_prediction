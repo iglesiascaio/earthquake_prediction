{
 "cells": [
  {
   "cell_type": "code",
   "execution_count": 1,
   "id": "4d2c390e-18b5-430c-97d4-f933faba7e86",
   "metadata": {},
   "outputs": [
    {
     "name": "stdout",
     "output_type": "stream",
     "text": [
      "✓ sys.path patched, offline mode activated\n"
     ]
    }
   ],
   "source": [
    "# -- Cell 1 -----------------------------------------------------------\n",
    "import os, sys, pathlib\n",
    "\n",
    "# ✏️ adjust these two paths if your layout differs\n",
    "REPO_ROOT = pathlib.Path(\"~/toto\").expanduser()          # outer repo\n",
    "INNER_DIR = REPO_ROOT / \"toto\"                           # inner package\n",
    "\n",
    "# make 'model.', 'data.' etc. importable\n",
    "inner_str = str(INNER_DIR)\n",
    "if inner_str not in sys.path:\n",
    "    sys.path.insert(0, inner_str)\n",
    "\n",
    "# stay completely offline\n",
    "os.environ[\"HF_HUB_OFFLINE\"]      = \"1\"\n",
    "os.environ[\"HF_DATASETS_OFFLINE\"] = \"1\"\n",
    "\n",
    "print(\"✓ sys.path patched, offline mode activated\")\n"
   ]
  },
  {
   "cell_type": "code",
   "execution_count": 2,
   "id": "c63ca17b-0c06-48d2-bfac-db96b8728f3e",
   "metadata": {},
   "outputs": [
    {
     "name": "stderr",
     "output_type": "stream",
     "text": [
      "/home/gridsan/mknuth/.conda/envs/toto-310/lib/python3.10/site-packages/gluonts/json.py:102: UserWarning: Using `json`-module for json-handling. Consider installing one of `orjson`, `ujson` to speed up serialization and deserialization.\n",
      "  warnings.warn(\n"
     ]
    },
    {
     "name": "stdout",
     "output_type": "stream",
     "text": [
      "Loading weights from local directory\n",
      "✓ Toto loaded — #params: 151.30608 M\n"
     ]
    }
   ],
   "source": [
    "# -- Cell 2 -----------------------------------------------------------\n",
    "from toto.model.toto import Toto\n",
    "\n",
    "CKPT_DIR = pathlib.Path(\"~/Toto-Open-Base-1.0\").expanduser()  # ↙ your folder\n",
    "toto = Toto.from_pretrained(str(CKPT_DIR)).to(\"cuda\")\n",
    "toto.compile()          # optional speed-up on PyTorch ≥2.0\n",
    "\n",
    "print(\"✓ Toto loaded — #params:\", sum(p.numel() for p in toto.parameters())/1e6, \"M\")\n"
   ]
  },
  {
   "cell_type": "code",
   "execution_count": 3,
   "id": "7de7becf-8785-4a3d-8b2b-447ba4f5b882",
   "metadata": {},
   "outputs": [
    {
     "name": "stdout",
     "output_type": "stream",
     "text": [
      "Forecast median shape: torch.Size([1, 7, 336])\n"
     ]
    }
   ],
   "source": [
    "# -- Cell 3 -----------------------------------------------------------\n",
    "import torch\n",
    "from data.util.dataset import MaskedTimeseries        # path works after Cell 1\n",
    "from toto.inference.forecaster import TotoForecaster\n",
    "\n",
    "DEVICE = \"cuda\"\n",
    "forecaster = TotoForecaster(toto.model)\n",
    "\n",
    "# dummy 7-var × 4096-step input ─ replace with your real series\n",
    "input_series = torch.randn(7, 4096, device=DEVICE)\n",
    "timestamp_seconds    = torch.zeros_like(input_series)\n",
    "time_interval_seconds = torch.full((7,), 60*15, device=DEVICE)   # 15-min grid\n",
    "\n",
    "inputs = MaskedTimeseries(\n",
    "    series              = input_series,\n",
    "    padding_mask        = torch.ones_like(input_series, dtype=torch.bool),\n",
    "    id_mask             = torch.zeros_like(input_series),\n",
    "    timestamp_seconds   = timestamp_seconds,\n",
    "    time_interval_seconds = time_interval_seconds,\n",
    ")\n",
    "\n",
    "forecast = forecaster.forecast(\n",
    "    inputs,\n",
    "    prediction_length = 336,\n",
    "    num_samples       = 128,\n",
    "    samples_per_batch = 128,   # <= num_samples is simplest\n",
    ")\n",
    "\n",
    "print(\"Forecast median shape:\", forecast.median.shape)   # (7, 336)\n"
   ]
  },
  {
   "cell_type": "code",
   "execution_count": 1,
   "id": "3b932d6c-59b0-4d8a-b30b-918e34a2246e",
   "metadata": {},
   "outputs": [
    {
     "data": {
      "text/html": [
       "<div>\n",
       "<style scoped>\n",
       "    .dataframe tbody tr th:only-of-type {\n",
       "        vertical-align: middle;\n",
       "    }\n",
       "\n",
       "    .dataframe tbody tr th {\n",
       "        vertical-align: top;\n",
       "    }\n",
       "\n",
       "    .dataframe thead th {\n",
       "        text-align: right;\n",
       "    }\n",
       "</style>\n",
       "<table border=\"1\" class=\"dataframe\">\n",
       "  <thead>\n",
       "    <tr style=\"text-align: right;\">\n",
       "      <th></th>\n",
       "      <th>station</th>\n",
       "      <th>period_start</th>\n",
       "      <th>period_end</th>\n",
       "      <th>label</th>\n",
       "      <th>embedding</th>\n",
       "    </tr>\n",
       "  </thead>\n",
       "  <tbody>\n",
       "    <tr>\n",
       "      <th>0</th>\n",
       "      <td>BRE</td>\n",
       "      <td>2023-09-23T00:00:00.019539Z</td>\n",
       "      <td>2023-10-02T23:59:59.994539Z</td>\n",
       "      <td>2</td>\n",
       "      <td>[-0.15884927, -0.88898444, -3.1738896, 1.50697...</td>\n",
       "    </tr>\n",
       "    <tr>\n",
       "      <th>1</th>\n",
       "      <td>BRE</td>\n",
       "      <td>2024-12-11T00:00:00.019538Z</td>\n",
       "      <td>2024-12-20T23:59:59.994538Z</td>\n",
       "      <td>1</td>\n",
       "      <td>[-0.17559603, -0.8910637, -3.1793027, 1.484997...</td>\n",
       "    </tr>\n",
       "    <tr>\n",
       "      <th>2</th>\n",
       "      <td>MAN</td>\n",
       "      <td>2024-12-06T00:00:00.004200Z</td>\n",
       "      <td>2024-12-15T23:59:59.979200Z</td>\n",
       "      <td>2</td>\n",
       "      <td>[-0.0833036, -0.7336906, -2.6597593, 1.167067,...</td>\n",
       "    </tr>\n",
       "    <tr>\n",
       "      <th>3</th>\n",
       "      <td>PASC</td>\n",
       "      <td>2022-09-13T00:00:00.019538Z</td>\n",
       "      <td>2022-09-22T23:59:59.994538Z</td>\n",
       "      <td>2</td>\n",
       "      <td>[0.29382408, -1.1622548, -3.103171, 1.6138947,...</td>\n",
       "    </tr>\n",
       "    <tr>\n",
       "      <th>4</th>\n",
       "      <td>MAN</td>\n",
       "      <td>2024-05-15T00:00:00.000000Z</td>\n",
       "      <td>2024-05-24T23:59:59.975000Z</td>\n",
       "      <td>0</td>\n",
       "      <td>[0.017347943, -0.45573452, -2.0281405, 0.61933...</td>\n",
       "    </tr>\n",
       "  </tbody>\n",
       "</table>\n",
       "</div>"
      ],
      "text/plain": [
       "  station                 period_start                   period_end  label  \\\n",
       "0     BRE  2023-09-23T00:00:00.019539Z  2023-10-02T23:59:59.994539Z      2   \n",
       "1     BRE  2024-12-11T00:00:00.019538Z  2024-12-20T23:59:59.994538Z      1   \n",
       "2     MAN  2024-12-06T00:00:00.004200Z  2024-12-15T23:59:59.979200Z      2   \n",
       "3    PASC  2022-09-13T00:00:00.019538Z  2022-09-22T23:59:59.994538Z      2   \n",
       "4     MAN  2024-05-15T00:00:00.000000Z  2024-05-24T23:59:59.975000Z      0   \n",
       "\n",
       "                                           embedding  \n",
       "0  [-0.15884927, -0.88898444, -3.1738896, 1.50697...  \n",
       "1  [-0.17559603, -0.8910637, -3.1793027, 1.484997...  \n",
       "2  [-0.0833036, -0.7336906, -2.6597593, 1.167067,...  \n",
       "3  [0.29382408, -1.1622548, -3.103171, 1.6138947,...  \n",
       "4  [0.017347943, -0.45573452, -2.0281405, 0.61933...  "
      ]
     },
     "execution_count": 1,
     "metadata": {},
     "output_type": "execute_result"
    }
   ],
   "source": [
    "import pandas as pd\n",
    "\n",
    "data = pd.read_pickle('01_Seismic_Wave_Data_Prediction/03_Results/seislm_toto_20250610_191031/evaluation/SeisLMForMagnitudePrediction_sample_embeddings.pkl')\n",
    "data.head()"
   ]
  },
  {
   "cell_type": "code",
   "execution_count": 4,
   "id": "77353eb9-eb73-4b93-a9c7-7be867ca6da7",
   "metadata": {},
   "outputs": [
    {
     "data": {
      "text/plain": [
       "(768,)"
      ]
     },
     "execution_count": 4,
     "metadata": {},
     "output_type": "execute_result"
    }
   ],
   "source": [
    "data['embedding'][0].shape"
   ]
  },
  {
   "cell_type": "code",
   "execution_count": null,
   "id": "1fc2d1d4-094d-4886-9b36-541f36c2f9a4",
   "metadata": {},
   "outputs": [],
   "source": []
  }
 ],
 "metadata": {
  "kernelspec": {
   "display_name": "Python [conda env:.conda-toto-310]",
   "language": "python",
   "name": "conda-env-.conda-toto-310-py"
  },
  "language_info": {
   "codemirror_mode": {
    "name": "ipython",
    "version": 3
   },
   "file_extension": ".py",
   "mimetype": "text/x-python",
   "name": "python",
   "nbconvert_exporter": "python",
   "pygments_lexer": "ipython3",
   "version": "3.10.18"
  }
 },
 "nbformat": 4,
 "nbformat_minor": 5
}
