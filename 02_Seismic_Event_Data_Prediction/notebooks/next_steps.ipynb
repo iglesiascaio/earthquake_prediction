{
 "cells": [
  {
   "cell_type": "markdown",
   "metadata": {},
   "source": [
    "## Next steps\n",
    "- 1. Understand data better (read documentation, magnitude types, data analysis, etc.)\n",
    "- 2. Cross-check biggest earthquakes with news/wikipedia\n",
    "- 3. Explore more features/double check computations"
   ]
  },
  {
   "cell_type": "markdown",
   "metadata": {},
   "source": []
  }
 ],
 "metadata": {
  "language_info": {
   "name": "python"
  }
 },
 "nbformat": 4,
 "nbformat_minor": 2
}
