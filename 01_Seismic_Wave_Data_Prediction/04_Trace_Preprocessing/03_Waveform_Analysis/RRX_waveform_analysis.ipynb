{
 "cells": [
  {
   "cell_type": "code",
   "execution_count": 1,
   "id": "fbf6bddb-2125-408a-a3f4-ce263dd088a2",
   "metadata": {},
   "outputs": [
    {
     "name": "stdout",
     "output_type": "stream",
     "text": [
      "1 Trace(s) in Stream:\n",
      "CI.RRX..BHN | 2024-01-01T00:00:00.019538Z - 2024-01-01T23:59:59.994538Z | 40.0 Hz, 3456000 samples\n",
      "1 Trace(s) in Stream:\n",
      "CI.RRX..BHE | 2024-01-01T00:00:00.019538Z - 2024-01-01T23:59:59.994538Z | 40.0 Hz, 3456000 samples\n",
      "1 Trace(s) in Stream:\n",
      "CI.RRX..BHZ | 2024-01-01T00:00:00.019538Z - 2024-01-01T23:59:59.994538Z | 40.0 Hz, 3456000 samples\n"
     ]
    }
   ],
   "source": [
    "import os\n",
    "import logging\n",
    "from obspy import read, Stream, UTCDateTime\n",
    "import numpy as np\n",
    "from obspy import Trace\n",
    "\n",
    "station = 'RRX'\n",
    "year = '2024'\n",
    "channels = ['BHN','BHE','BHZ']\n",
    "\n",
    "for channel in channels:\n",
    "    file_path = f'/home/gridsan/mknuth/01_Seismic_Wave_Data_Prediction/01_Data/01_Seismic_Wave_Data/{year}/{station}/{channel}/{station}_{channel}_{year}-01-01.mseed'\n",
    "    stream = read(file_path)\n",
    "    print(stream)"
   ]
  },
  {
   "cell_type": "code",
   "execution_count": 2,
   "id": "06405084-08c4-49e2-969f-f1c53ba77059",
   "metadata": {},
   "outputs": [
    {
     "data": {
      "text/plain": [
       "         network: CI\n",
       "         station: RRX\n",
       "        location: \n",
       "         channel: BHZ\n",
       "       starttime: 2024-01-01T00:00:00.019538Z\n",
       "         endtime: 2024-01-01T23:59:59.994538Z\n",
       "   sampling_rate: 40.0\n",
       "           delta: 0.025\n",
       "            npts: 3456000\n",
       "           calib: 1.0\n",
       "         _format: MSEED\n",
       "           mseed: AttribDict({'dataquality': 'D', 'number_of_records': 9501, 'encoding': 'STEIM2', 'byteorder': '>', 'record_length': 512, 'filesize': 4864512})"
      ]
     },
     "execution_count": 2,
     "metadata": {},
     "output_type": "execute_result"
    }
   ],
   "source": [
    "stream[0].stats"
   ]
  },
  {
   "cell_type": "code",
   "execution_count": 3,
   "id": "07dbcde7-4534-41e2-a4e3-fe421a1b19a2",
   "metadata": {},
   "outputs": [
    {
     "name": "stdout",
     "output_type": "stream",
     "text": [
      "processing year 2024\n",
      "In total 1098 files\n",
      "2 Trace(s) in Stream:\n",
      "CI.RRX..BHE | 2024-02-08T00:00:00.019538Z - 2024-02-08T16:25:33.569538Z | 40.0 Hz, 2365343 samples\n",
      "CI.RRX..BHE | 2024-02-08T16:25:58.469538Z - 2024-02-08T23:59:59.994538Z | 40.0 Hz, 1089662 samples\n",
      "2 Trace(s) in Stream:\n",
      "CI.RRX..BHE | 2024-05-09T00:00:00.019538Z - 2024-05-09T18:13:39.344538Z | 40.0 Hz, 2624774 samples\n",
      "CI.RRX..BHE | 2024-05-09T18:14:59.594538Z - 2024-05-09T23:59:59.994538Z | 40.0 Hz, 828017 samples\n",
      "2 Trace(s) in Stream:\n",
      "CI.RRX..BHE | 2024-07-02T00:00:00.019538Z - 2024-07-02T22:51:48.144538Z | 40.0 Hz, 3292326 samples\n",
      "CI.RRX..BHE | 2024-07-02T22:53:28.444538Z - 2024-07-02T23:59:59.994538Z | 40.0 Hz, 159663 samples\n",
      "2 Trace(s) in Stream:\n",
      "CI.RRX..BHE | 2024-09-12T00:00:00.019536Z - 2024-09-12T17:29:38.569536Z | 40.0 Hz, 2519143 samples\n",
      "CI.RRX..BHE | 2024-09-12T19:02:02.594538Z - 2024-09-12T23:59:59.994538Z | 40.0 Hz, 715097 samples\n",
      "2 Trace(s) in Stream:\n",
      "CI.RRX..BHN | 2024-02-08T00:00:00.019538Z - 2024-02-08T16:25:39.394538Z | 40.0 Hz, 2365576 samples\n",
      "CI.RRX..BHN | 2024-02-08T16:25:57.294538Z - 2024-02-08T23:59:59.994538Z | 40.0 Hz, 1089709 samples\n",
      "2 Trace(s) in Stream:\n",
      "CI.RRX..BHN | 2024-05-09T00:00:00.019538Z - 2024-05-09T18:13:41.419538Z | 40.0 Hz, 2624857 samples\n",
      "CI.RRX..BHN | 2024-05-09T18:15:00.119538Z - 2024-05-09T23:59:59.994538Z | 40.0 Hz, 827996 samples\n",
      "2 Trace(s) in Stream:\n",
      "CI.RRX..BHN | 2024-07-02T00:00:00.019538Z - 2024-07-02T22:51:46.069538Z | 40.0 Hz, 3292243 samples\n",
      "CI.RRX..BHN | 2024-07-02T22:53:32.094538Z - 2024-07-02T23:59:59.994538Z | 40.0 Hz, 159517 samples\n",
      "2 Trace(s) in Stream:\n",
      "CI.RRX..BHN | 2024-09-12T00:00:00.019538Z - 2024-09-12T17:29:38.569538Z | 40.0 Hz, 2519143 samples\n",
      "CI.RRX..BHN | 2024-09-12T19:02:02.594538Z - 2024-09-12T23:59:59.994538Z | 40.0 Hz, 715097 samples\n",
      "2 Trace(s) in Stream:\n",
      "CI.RRX..BHZ | 2024-02-08T00:00:00.019538Z - 2024-02-08T16:25:35.444538Z | 40.0 Hz, 2365418 samples\n",
      "CI.RRX..BHZ | 2024-02-08T16:25:52.694538Z - 2024-02-08T23:59:59.994538Z | 40.0 Hz, 1089893 samples\n",
      "2 Trace(s) in Stream:\n",
      "CI.RRX..BHZ | 2024-05-09T00:00:00.019538Z - 2024-05-09T18:13:42.869538Z | 40.0 Hz, 2624915 samples\n",
      "CI.RRX..BHZ | 2024-05-09T18:14:55.369538Z - 2024-05-09T23:59:59.994538Z | 40.0 Hz, 828186 samples\n",
      "2 Trace(s) in Stream:\n",
      "CI.RRX..BHZ | 2024-07-02T00:00:00.019538Z - 2024-07-02T22:51:46.994538Z | 40.0 Hz, 3292280 samples\n",
      "CI.RRX..BHZ | 2024-07-02T22:53:26.419538Z - 2024-07-02T23:59:59.994538Z | 40.0 Hz, 159744 samples\n",
      "2 Trace(s) in Stream:\n",
      "CI.RRX..BHZ | 2024-09-12T00:00:00.019538Z - 2024-09-12T17:29:38.569538Z | 40.0 Hz, 2519143 samples\n",
      "CI.RRX..BHZ | 2024-09-12T19:02:02.594538Z - 2024-09-12T23:59:59.994538Z | 40.0 Hz, 715097 samples\n"
     ]
    }
   ],
   "source": [
    "import os\n",
    "import logging\n",
    "from obspy import read, Stream, UTCDateTime\n",
    "import numpy as np\n",
    "from obspy import Trace\n",
    "\n",
    "def format_duration(duration):\n",
    "    \"\"\"Convert duration from seconds to hours:minutes format.\"\"\"\n",
    "    hours = int(duration // 3600)\n",
    "    minutes = int((duration % 3600) // 60)\n",
    "    return f\"{hours:02d}:{minutes:02d}\"\n",
    "\n",
    "def save_processed_trace(trace, original_path):\n",
    "    \"\"\"Save the processed trace to a new file with '_processed' appended to the original name.\"\"\"\n",
    "    directory, filename = os.path.split(original_path)\n",
    "    name, ext = os.path.splitext(filename)\n",
    "    new_filename = f\"{name}_processed{ext}\"\n",
    "    new_path = os.path.join(directory, new_filename)\n",
    "    trace.write(new_path, format='MSEED')\n",
    "    logging.info(f\"Saved processed trace to: {new_path}\")\n",
    "\n",
    "def process_waveform(file_path):\n",
    "    try:\n",
    "        stream = read(file_path)\n",
    "        #print(f\"Number of traces: {len(stream)}\")\n",
    "        if len(stream) > 1:\n",
    "            print(stream)\n",
    "        \n",
    "        \n",
    "        stream.merge(method=1, fill_value=0)\n",
    "        duration = stream[0].stats.endtime - stream[0].stats.starttime\n",
    "        duration_str = format_duration(duration)\n",
    "        logging.info(f\"Stream goes from {stream[0].stats.starttime} to {stream[0].stats.endtime} (duration: {duration_str})\")\n",
    "        #print(f\"Stream goes from {stream[0].stats.starttime} to {stream[0].stats.endtime} (duration: {duration_str})\")\n",
    "\n",
    "        # Save the processed trace\n",
    "        save_processed_trace(stream[0], file_path)\n",
    "\n",
    "    except Exception as e:\n",
    "        logging.error(f\"Error processing file {stream[0]}: {str(e)}\")\n",
    "        print(f\"Error processing file {stream[0]}: {str(e)}\")\n",
    "\n",
    "\n",
    "\n",
    "base_dir = f\"/home/gridsan/mknuth/01_Seismic_Wave_Data_Prediction/01_Data/01_Seismic_Wave_Data/{year}/{station}\"\n",
    "\n",
    "logging.basicConfig(filename=f\"{year}_{station}_trace_preprocessing.log\", level=logging.INFO, format='%(asctime)s - %(message)s', filemode='w')\n",
    "# Base directory to start searching\n",
    "\n",
    "\n",
    "print(f'processing year {year}')\n",
    "# Collect all mseed files recursively in a list\n",
    "file_list = []\n",
    "\n",
    "for root, dirs, files in os.walk(base_dir):\n",
    "    for file in files:\n",
    "        if file.endswith(\".mseed\"):\n",
    "            file_path = os.path.join(root, file)\n",
    "            file_list.append(file_path)\n",
    "\n",
    "# Sort the list of files alphabetically\n",
    "file_list.sort()\n",
    "print(f\"In total {len(file_list)} files\")\n",
    "\n",
    "# Process each file that has not been processed yet, total 1095 in 2021\n",
    "for file_path in file_list:\n",
    "    # Skip already processed files\n",
    "    if \"_processed\" in os.path.basename(file_path):\n",
    "        logging.info(f\"Skipping already processed file: {os.path.basename(file_path)}\")\n",
    "        continue\n",
    "    \n",
    "    #print(f\"Processing file {file_path}\")\n",
    "    logging.info(f\"Processing file {os.path.basename(file_path)}\")\n",
    "    process_waveform(file_path)"
   ]
  },
  {
   "cell_type": "code",
   "execution_count": 4,
   "id": "202823e8-e9f5-4a11-b0e4-4f97ff4aebff",
   "metadata": {},
   "outputs": [
    {
     "ename": "FileNotFoundError",
     "evalue": "[Errno 2] No such file or directory: '01_Data/01_Seismic_Wave_Data/2024/SDD/BHZ/SDD_BHZ_2024-11-21.mseed'",
     "output_type": "error",
     "traceback": [
      "\u001b[0;31m---------------------------------------------------------------------------\u001b[0m",
      "\u001b[0;31mFileNotFoundError\u001b[0m                         Traceback (most recent call last)",
      "Cell \u001b[0;32mIn[4], line 3\u001b[0m\n\u001b[1;32m      1\u001b[0m file_path \u001b[38;5;241m=\u001b[39m \u001b[38;5;124m'\u001b[39m\u001b[38;5;124m01_Data/01_Seismic_Wave_Data/2024/SDD/BHZ/SDD_BHZ_2024-11-21.mseed\u001b[39m\u001b[38;5;124m'\u001b[39m\n\u001b[0;32m----> 3\u001b[0m stream \u001b[38;5;241m=\u001b[39m \u001b[43mread\u001b[49m\u001b[43m(\u001b[49m\u001b[43mfile_path\u001b[49m\u001b[43m)\u001b[49m\n\u001b[1;32m      4\u001b[0m stream\u001b[38;5;241m.\u001b[39mmerge()\n\u001b[1;32m      5\u001b[0m stream\n",
      "File \u001b[0;32m~/.conda/envs/seislm_env/lib/python3.8/site-packages/decorator.py:235\u001b[0m, in \u001b[0;36mdecorate.<locals>.fun\u001b[0;34m(*args, **kw)\u001b[0m\n\u001b[1;32m    233\u001b[0m \u001b[38;5;28;01mif\u001b[39;00m \u001b[38;5;129;01mnot\u001b[39;00m kwsyntax:\n\u001b[1;32m    234\u001b[0m     args, kw \u001b[38;5;241m=\u001b[39m fix(args, kw, sig)\n\u001b[0;32m--> 235\u001b[0m \u001b[38;5;28;01mreturn\u001b[39;00m \u001b[43mcaller\u001b[49m\u001b[43m(\u001b[49m\u001b[43mfunc\u001b[49m\u001b[43m,\u001b[49m\u001b[43m \u001b[49m\u001b[38;5;241;43m*\u001b[39;49m\u001b[43m(\u001b[49m\u001b[43mextras\u001b[49m\u001b[43m \u001b[49m\u001b[38;5;241;43m+\u001b[39;49m\u001b[43m \u001b[49m\u001b[43margs\u001b[49m\u001b[43m)\u001b[49m\u001b[43m,\u001b[49m\u001b[43m \u001b[49m\u001b[38;5;241;43m*\u001b[39;49m\u001b[38;5;241;43m*\u001b[39;49m\u001b[43mkw\u001b[49m\u001b[43m)\u001b[49m\n",
      "File \u001b[0;32m~/.conda/envs/seislm_env/lib/python3.8/site-packages/obspy/core/util/decorator.py:297\u001b[0m, in \u001b[0;36mmap_example_filename.<locals>._map_example_filename\u001b[0;34m(func, *args, **kwargs)\u001b[0m\n\u001b[1;32m    295\u001b[0m                 \u001b[38;5;28;01mexcept\u001b[39;00m \u001b[38;5;167;01mIOError\u001b[39;00m:\n\u001b[1;32m    296\u001b[0m                     \u001b[38;5;28;01mpass\u001b[39;00m\n\u001b[0;32m--> 297\u001b[0m \u001b[38;5;28;01mreturn\u001b[39;00m \u001b[43mfunc\u001b[49m\u001b[43m(\u001b[49m\u001b[38;5;241;43m*\u001b[39;49m\u001b[43margs\u001b[49m\u001b[43m,\u001b[49m\u001b[43m \u001b[49m\u001b[38;5;241;43m*\u001b[39;49m\u001b[38;5;241;43m*\u001b[39;49m\u001b[43mkwargs\u001b[49m\u001b[43m)\u001b[49m\n",
      "File \u001b[0;32m~/.conda/envs/seislm_env/lib/python3.8/site-packages/obspy/core/stream.py:208\u001b[0m, in \u001b[0;36mread\u001b[0;34m(pathname_or_url, format, headonly, starttime, endtime, nearest_sample, dtype, apply_calib, check_compression, **kwargs)\u001b[0m\n\u001b[1;32m    206\u001b[0m     st \u001b[38;5;241m=\u001b[39m _create_example_stream(headonly\u001b[38;5;241m=\u001b[39mheadonly)\n\u001b[1;32m    207\u001b[0m \u001b[38;5;28;01melse\u001b[39;00m:\n\u001b[0;32m--> 208\u001b[0m     st \u001b[38;5;241m=\u001b[39m \u001b[43m_generic_reader\u001b[49m\u001b[43m(\u001b[49m\u001b[43mpathname_or_url\u001b[49m\u001b[43m,\u001b[49m\u001b[43m \u001b[49m\u001b[43m_read\u001b[49m\u001b[43m,\u001b[49m\u001b[43m \u001b[49m\u001b[38;5;241;43m*\u001b[39;49m\u001b[38;5;241;43m*\u001b[39;49m\u001b[43mkwargs\u001b[49m\u001b[43m)\u001b[49m\n\u001b[1;32m    210\u001b[0m \u001b[38;5;28;01mif\u001b[39;00m \u001b[38;5;28mlen\u001b[39m(st) \u001b[38;5;241m==\u001b[39m \u001b[38;5;241m0\u001b[39m:\n\u001b[1;32m    211\u001b[0m     \u001b[38;5;28;01mif\u001b[39;00m \u001b[38;5;28misinstance\u001b[39m(pathname_or_url, Path):\n",
      "File \u001b[0;32m~/.conda/envs/seislm_env/lib/python3.8/site-packages/obspy/core/util/base.py:656\u001b[0m, in \u001b[0;36m_generic_reader\u001b[0;34m(pathname_or_url, callback_func, **kwargs)\u001b[0m\n\u001b[1;32m    654\u001b[0m         \u001b[38;5;28;01mraise\u001b[39;00m \u001b[38;5;167;01mException\u001b[39;00m(\u001b[38;5;124m\"\u001b[39m\u001b[38;5;124mNo file matching file pattern: \u001b[39m\u001b[38;5;132;01m%s\u001b[39;00m\u001b[38;5;124m\"\u001b[39m \u001b[38;5;241m%\u001b[39m pathname)\n\u001b[1;32m    655\u001b[0m     \u001b[38;5;28;01melif\u001b[39;00m \u001b[38;5;129;01mnot\u001b[39;00m glob\u001b[38;5;241m.\u001b[39mhas_magic(pathname) \u001b[38;5;129;01mand\u001b[39;00m \u001b[38;5;129;01mnot\u001b[39;00m Path(pathname)\u001b[38;5;241m.\u001b[39mis_file():\n\u001b[0;32m--> 656\u001b[0m         \u001b[38;5;28;01mraise\u001b[39;00m \u001b[38;5;167;01mIOError\u001b[39;00m(\u001b[38;5;241m2\u001b[39m, \u001b[38;5;124m\"\u001b[39m\u001b[38;5;124mNo such file or directory\u001b[39m\u001b[38;5;124m\"\u001b[39m, pathname)\n\u001b[1;32m    658\u001b[0m generic \u001b[38;5;241m=\u001b[39m callback_func(pathnames[\u001b[38;5;241m0\u001b[39m], \u001b[38;5;241m*\u001b[39m\u001b[38;5;241m*\u001b[39mkwargs)\n\u001b[1;32m    659\u001b[0m \u001b[38;5;28;01mif\u001b[39;00m \u001b[38;5;28mlen\u001b[39m(pathnames) \u001b[38;5;241m>\u001b[39m \u001b[38;5;241m1\u001b[39m:\n",
      "\u001b[0;31mFileNotFoundError\u001b[0m: [Errno 2] No such file or directory: '01_Data/01_Seismic_Wave_Data/2024/SDD/BHZ/SDD_BHZ_2024-11-21.mseed'"
     ]
    }
   ],
   "source": [
    "file_path = '01_Data/01_Seismic_Wave_Data/2024/SDD/BHZ/SDD_BHZ_2024-11-21.mseed'\n",
    "\n",
    "stream = read(file_path)\n",
    "stream.merge()\n",
    "stream"
   ]
  },
  {
   "cell_type": "code",
   "execution_count": null,
   "id": "876b4f45-2a1d-4673-b9ef-622b09e6dd5f",
   "metadata": {},
   "outputs": [],
   "source": []
  }
 ],
 "metadata": {
  "kernelspec": {
   "display_name": "Python (seislm_env)",
   "language": "python",
   "name": "seislm_env"
  },
  "language_info": {
   "codemirror_mode": {
    "name": "ipython",
    "version": 3
   },
   "file_extension": ".py",
   "mimetype": "text/x-python",
   "name": "python",
   "nbconvert_exporter": "python",
   "pygments_lexer": "ipython3",
   "version": "3.8.20"
  }
 },
 "nbformat": 4,
 "nbformat_minor": 5
}
