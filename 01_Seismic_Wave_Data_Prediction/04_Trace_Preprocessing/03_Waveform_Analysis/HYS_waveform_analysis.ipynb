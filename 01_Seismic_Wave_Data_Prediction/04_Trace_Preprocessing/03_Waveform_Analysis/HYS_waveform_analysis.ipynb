{
 "cells": [
  {
   "cell_type": "code",
   "execution_count": 9,
   "id": "fbf6bddb-2125-408a-a3f4-ce263dd088a2",
   "metadata": {},
   "outputs": [
    {
     "name": "stdout",
     "output_type": "stream",
     "text": [
      "1 Trace(s) in Stream:\n",
      "CI.HYS..BHN | 2024-01-09T00:00:00.019538Z - 2024-01-09T23:59:59.994538Z | 40.0 Hz, 3456000 samples\n",
      "1 Trace(s) in Stream:\n",
      "CI.HYS..BHE | 2024-01-09T00:00:00.019538Z - 2024-01-09T23:59:59.994538Z | 40.0 Hz, 3456000 samples\n",
      "1 Trace(s) in Stream:\n",
      "CI.HYS..BHZ | 2024-01-09T00:00:00.019538Z - 2024-01-09T23:59:59.994538Z | 40.0 Hz, 3456000 samples\n"
     ]
    }
   ],
   "source": [
    "import os\n",
    "import logging\n",
    "from obspy import read, Stream, UTCDateTime\n",
    "import numpy as np\n",
    "from obspy import Trace\n",
    "\n",
    "station = 'HYS'\n",
    "year = '2024'\n",
    "channels = ['BHN','BHE','BHZ']\n",
    "\n",
    "for channel in channels:\n",
    "    file_path = f'/home/gridsan/mknuth/01_Seismic_Wave_Data_Prediction/01_Data/01_Seismic_Wave_Data/{year}/{station}/{channel}/{station}_{channel}_{year}-01-09.mseed'\n",
    "    stream = read(file_path)\n",
    "    print(stream)"
   ]
  },
  {
   "cell_type": "code",
   "execution_count": 10,
   "id": "06405084-08c4-49e2-969f-f1c53ba77059",
   "metadata": {},
   "outputs": [
    {
     "data": {
      "text/plain": [
       "         network: CI\n",
       "         station: HYS\n",
       "        location: \n",
       "         channel: BHZ\n",
       "       starttime: 2024-01-09T00:00:00.019538Z\n",
       "         endtime: 2024-01-09T23:59:59.994538Z\n",
       "   sampling_rate: 40.0\n",
       "           delta: 0.025\n",
       "            npts: 3456000\n",
       "           calib: 1.0\n",
       "         _format: MSEED\n",
       "           mseed: AttribDict({'dataquality': 'D', 'number_of_records': 6867, 'encoding': 'STEIM2', 'byteorder': '>', 'record_length': 512, 'filesize': 3515904})"
      ]
     },
     "execution_count": 10,
     "metadata": {},
     "output_type": "execute_result"
    }
   ],
   "source": [
    "stream[0].stats"
   ]
  },
  {
   "cell_type": "code",
   "execution_count": 11,
   "id": "07dbcde7-4534-41e2-a4e3-fe421a1b19a2",
   "metadata": {},
   "outputs": [
    {
     "name": "stdout",
     "output_type": "stream",
     "text": [
      "processing year 2024\n",
      "In total 1098 files\n",
      "2 Trace(s) in Stream:\n",
      "CI.HYS..BHE | 2024-02-08T00:00:00.019538Z - 2024-02-08T16:25:34.419538Z | 40.0 Hz, 2365377 samples\n",
      "CI.HYS..BHE | 2024-02-08T16:25:59.719538Z - 2024-02-08T23:59:59.994538Z | 40.0 Hz, 1089612 samples\n",
      "3 Trace(s) in Stream:\n",
      "CI.HYS..BHE | 2024-03-25T00:00:00.019538Z - 2024-03-25T21:14:54.569538Z | 40.0 Hz, 3059783 samples\n",
      "CI.HYS..BHE | 2024-03-25T21:15:04.044538Z - 2024-03-25T21:25:00.969538Z | 40.0 Hz, 23878 samples\n",
      "CI.HYS..BHE | 2024-03-25T21:25:45.244538Z - 2024-03-25T23:59:59.994538Z | 40.0 Hz, 370191 samples\n",
      "22 Trace(s) in Stream:\n",
      "\n",
      "CI.HYS..BHE | 2024-05-09T00:00:00.019538Z - 2024-05-09T01:22:42.194538Z | 40.0 Hz, 198488 samples\n",
      "...\n",
      "(20 other traces)\n",
      "...\n",
      "CI.HYS..BHE | 2024-05-09T17:31:19.894538Z - 2024-05-09T23:59:59.994538Z | 40.0 Hz, 932805 samples\n",
      "\n",
      "[Use \"print(Stream.__str__(extended=True))\" to print all Traces]\n",
      "3 Trace(s) in Stream:\n",
      "CI.HYS..BHE | 2024-11-26T00:00:00.019538Z - 2024-11-26T19:02:53.569538Z | 40.0 Hz, 2742943 samples\n",
      "CI.HYS..BHE | 2024-11-26T19:03:01.894538Z - 2024-11-26T19:04:45.069538Z | 40.0 Hz, 4128 samples\n",
      "CI.HYS..BHE | 2024-11-26T19:04:55.444538Z - 2024-11-26T23:59:59.994538Z | 40.0 Hz, 708183 samples\n",
      "2 Trace(s) in Stream:\n",
      "CI.HYS..BHN | 2024-02-08T00:00:00.019538Z - 2024-02-08T16:25:32.444538Z | 40.0 Hz, 2365298 samples\n",
      "CI.HYS..BHN | 2024-02-08T16:25:57.194538Z - 2024-02-08T23:59:59.994538Z | 40.0 Hz, 1089713 samples\n",
      "3 Trace(s) in Stream:\n",
      "CI.HYS..BHN | 2024-03-25T00:00:00.019538Z - 2024-03-25T21:14:54.569538Z | 40.0 Hz, 3059783 samples\n",
      "CI.HYS..BHN | 2024-03-25T21:15:03.694538Z - 2024-03-25T21:25:05.969538Z | 40.0 Hz, 24092 samples\n",
      "CI.HYS..BHN | 2024-03-25T21:25:37.419538Z - 2024-03-25T23:59:59.994538Z | 40.0 Hz, 370504 samples\n",
      "34 Trace(s) in Stream:\n",
      "\n",
      "CI.HYS..BHN | 2024-05-09T00:00:00.019538Z - 2024-05-09T00:24:01.719538Z | 40.0 Hz, 57669 samples\n",
      "...\n",
      "(32 other traces)\n",
      "...\n",
      "CI.HYS..BHN | 2024-05-09T16:30:26.194538Z - 2024-05-09T23:59:59.994538Z | 40.0 Hz, 1078953 samples\n",
      "\n",
      "[Use \"print(Stream.__str__(extended=True))\" to print all Traces]\n",
      "3 Trace(s) in Stream:\n",
      "CI.HYS..BHN | 2024-11-26T00:00:00.019538Z - 2024-11-26T19:02:53.569538Z | 40.0 Hz, 2742943 samples\n",
      "CI.HYS..BHN | 2024-11-26T19:03:01.194538Z - 2024-11-26T19:04:38.094538Z | 40.0 Hz, 3877 samples\n",
      "CI.HYS..BHN | 2024-11-26T19:04:57.244538Z - 2024-11-26T23:59:59.994538Z | 40.0 Hz, 708111 samples\n",
      "2 Trace(s) in Stream:\n",
      "CI.HYS..BHZ | 2024-02-08T00:00:00.019538Z - 2024-02-08T16:25:34.394538Z | 40.0 Hz, 2365376 samples\n",
      "CI.HYS..BHZ | 2024-02-08T16:25:58.169538Z - 2024-02-08T23:59:59.994538Z | 40.0 Hz, 1089674 samples\n",
      "3 Trace(s) in Stream:\n",
      "CI.HYS..BHZ | 2024-03-25T00:00:00.019538Z - 2024-03-25T21:14:54.569538Z | 40.0 Hz, 3059783 samples\n",
      "CI.HYS..BHZ | 2024-03-25T21:15:04.219538Z - 2024-03-25T21:25:00.769538Z | 40.0 Hz, 23863 samples\n",
      "CI.HYS..BHZ | 2024-03-25T21:25:46.044538Z - 2024-03-25T23:59:59.994538Z | 40.0 Hz, 370159 samples\n",
      "35 Trace(s) in Stream:\n",
      "\n",
      "CI.HYS..BHZ | 2024-05-09T00:00:00.019538Z - 2024-05-09T00:11:08.844538Z | 40.0 Hz, 26754 samples\n",
      "...\n",
      "(33 other traces)\n",
      "...\n",
      "CI.HYS..BHZ | 2024-05-09T16:59:43.394539Z - 2024-05-09T23:59:59.994539Z | 40.0 Hz, 1008665 samples\n",
      "\n",
      "[Use \"print(Stream.__str__(extended=True))\" to print all Traces]\n",
      "3 Trace(s) in Stream:\n",
      "CI.HYS..BHZ | 2024-11-26T00:00:00.019538Z - 2024-11-26T19:02:53.569538Z | 40.0 Hz, 2742943 samples\n",
      "CI.HYS..BHZ | 2024-11-26T19:03:01.719538Z - 2024-11-26T19:04:43.669538Z | 40.0 Hz, 4079 samples\n",
      "CI.HYS..BHZ | 2024-11-26T19:04:53.894538Z - 2024-11-26T23:59:59.994538Z | 40.0 Hz, 708245 samples\n"
     ]
    }
   ],
   "source": [
    "import os\n",
    "import logging\n",
    "from obspy import read, Stream, UTCDateTime\n",
    "import numpy as np\n",
    "from obspy import Trace\n",
    "\n",
    "def format_duration(duration):\n",
    "    \"\"\"Convert duration from seconds to hours:minutes format.\"\"\"\n",
    "    hours = int(duration // 3600)\n",
    "    minutes = int((duration % 3600) // 60)\n",
    "    return f\"{hours:02d}:{minutes:02d}\"\n",
    "\n",
    "def save_processed_trace(trace, original_path):\n",
    "    \"\"\"Save the processed trace to a new file with '_processed' appended to the original name.\"\"\"\n",
    "    directory, filename = os.path.split(original_path)\n",
    "    name, ext = os.path.splitext(filename)\n",
    "    new_filename = f\"{name}_processed{ext}\"\n",
    "    new_path = os.path.join(directory, new_filename)\n",
    "    trace.write(new_path, format='MSEED')\n",
    "    logging.info(f\"Saved processed trace to: {new_path}\")\n",
    "\n",
    "def process_waveform(file_path):\n",
    "    try:\n",
    "        stream = read(file_path)\n",
    "        #print(f\"Number of traces: {len(stream)}\")\n",
    "        if len(stream) > 1:\n",
    "            print(stream)\n",
    "        \n",
    "        \n",
    "        stream.merge(method=1, fill_value=0)\n",
    "        duration = stream[0].stats.endtime - stream[0].stats.starttime\n",
    "        duration_str = format_duration(duration)\n",
    "        logging.info(f\"Stream goes from {stream[0].stats.starttime} to {stream[0].stats.endtime} (duration: {duration_str})\")\n",
    "        #print(f\"Stream goes from {stream[0].stats.starttime} to {stream[0].stats.endtime} (duration: {duration_str})\")\n",
    "\n",
    "        # Save the processed trace\n",
    "        save_processed_trace(stream[0], file_path)\n",
    "\n",
    "    except Exception as e:\n",
    "        logging.error(f\"Error processing file {stream[0]}: {str(e)}\")\n",
    "        print(f\"Error processing file {stream[0]}: {str(e)}\")\n",
    "\n",
    "\n",
    "\n",
    "base_dir = f\"/home/gridsan/mknuth/01_Seismic_Wave_Data_Prediction/01_Data/01_Seismic_Wave_Data/{year}/{station}\"\n",
    "\n",
    "logging.basicConfig(filename=f\"{year}_{station}_trace_preprocessing.log\", level=logging.INFO, format='%(asctime)s - %(message)s', filemode='w')\n",
    "# Base directory to start searching\n",
    "\n",
    "\n",
    "print(f'processing year {year}')\n",
    "# Collect all mseed files recursively in a list\n",
    "file_list = []\n",
    "\n",
    "for root, dirs, files in os.walk(base_dir):\n",
    "    for file in files:\n",
    "        if file.endswith(\".mseed\"):\n",
    "            file_path = os.path.join(root, file)\n",
    "            file_list.append(file_path)\n",
    "\n",
    "# Sort the list of files alphabetically\n",
    "file_list.sort()\n",
    "print(f\"In total {len(file_list)} files\")\n",
    "\n",
    "# Process each file that has not been processed yet, total 1095 in 2021\n",
    "for file_path in file_list:\n",
    "    # Skip already processed files\n",
    "    if \"_processed\" in os.path.basename(file_path):\n",
    "        logging.info(f\"Skipping already processed file: {os.path.basename(file_path)}\")\n",
    "        continue\n",
    "    \n",
    "    #print(f\"Processing file {file_path}\")\n",
    "    logging.info(f\"Processing file {os.path.basename(file_path)}\")\n",
    "    process_waveform(file_path)"
   ]
  },
  {
   "cell_type": "code",
   "execution_count": 13,
   "id": "202823e8-e9f5-4a11-b0e4-4f97ff4aebff",
   "metadata": {},
   "outputs": [
    {
     "name": "stdout",
     "output_type": "stream",
     "text": [
      "1 Trace(s) in Stream:\n",
      "CI.HYS..BHN | 2024-07-23T00:00:00.019538Z - 2024-07-23T23:59:59.994538Z | 40.0 Hz, 3456000 samples\n"
     ]
    }
   ],
   "source": [
    "channel = 'BHN' #'BHE','BHZ'\n",
    "\n",
    "\n",
    "file_path = f'/home/gridsan/mknuth/01_Seismic_Wave_Data_Prediction/01_Data/01_Seismic_Wave_Data/{year}/{station}/{channel}/{station}_{channel}_{year}-07-23.mseed'\n",
    "stream = read(file_path)\n",
    "print(stream)"
   ]
  },
  {
   "cell_type": "code",
   "execution_count": null,
   "id": "876b4f45-2a1d-4673-b9ef-622b09e6dd5f",
   "metadata": {},
   "outputs": [],
   "source": []
  }
 ],
 "metadata": {
  "kernelspec": {
   "display_name": "Python (seislm_env)",
   "language": "python",
   "name": "seislm_env"
  },
  "language_info": {
   "codemirror_mode": {
    "name": "ipython",
    "version": 3
   },
   "file_extension": ".py",
   "mimetype": "text/x-python",
   "name": "python",
   "nbconvert_exporter": "python",
   "pygments_lexer": "ipython3",
   "version": "3.8.20"
  }
 },
 "nbformat": 4,
 "nbformat_minor": 5
}
