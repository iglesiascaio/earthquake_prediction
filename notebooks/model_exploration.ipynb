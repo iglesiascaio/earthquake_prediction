{
 "cells": [
  {
   "cell_type": "code",
   "execution_count": 60,
   "metadata": {},
   "outputs": [],
   "source": [
    "import pandas as pd\n",
    "from sklearn.preprocessing import LabelEncoder"
   ]
  },
  {
   "cell_type": "code",
   "execution_count": 61,
   "metadata": {},
   "outputs": [],
   "source": [
    "df = pd.read_parquet(\"data/features/earthquake_features.parquet\")"
   ]
  },
  {
   "cell_type": "code",
   "execution_count": null,
   "metadata": {},
   "outputs": [],
   "source": [
    "df = pd.read_parquet(\"data/raw/earthquake_data.parquet\")"
   ]
  },
  {
   "cell_type": "code",
   "execution_count": 62,
   "metadata": {},
   "outputs": [],
   "source": [
    "# Convert datetime column to numerical features\n",
    "df['time_utc'] = pd.to_datetime(df['time_utc'])\n",
    "df['year'] = df['time_utc'].dt.year\n",
    "df['month'] = df['time_utc'].dt.month\n",
    "df['day'] = df['time_utc'].dt.day\n",
    "df['hour'] = df['time_utc'].dt.hour\n",
    "df['minute'] = df['time_utc'].dt.minute\n",
    "df['second'] = df['time_utc'].dt.second\n",
    "\n",
    "# Drop non-numeric identifier\n",
    "df.drop(columns=['event_id'], inplace=True)\n",
    "\n",
    "# Convert categorical variables to numeric using Label Encoding\n",
    "for col in ['magnitude_type', 'event_type']:\n",
    "    df[col] = LabelEncoder().fit_transform(df[col])\n"
   ]
  },
  {
   "cell_type": "code",
   "execution_count": 63,
   "metadata": {},
   "outputs": [],
   "source": [
    "df = df.query(\"time_utc >= '2022-01-01'\")"
   ]
  },
  {
   "cell_type": "code",
   "execution_count": 64,
   "metadata": {},
   "outputs": [],
   "source": [
    "X = df.drop(columns=[\"max_mag_next_30d\", \"target_class\"])\n",
    "y = df[\"max_mag_next_30d\"]"
   ]
  },
  {
   "cell_type": "code",
   "execution_count": 65,
   "metadata": {},
   "outputs": [],
   "source": [
    "X= X.drop(columns=[\"station_latitude\", \"station_longitude\", \"second\", \"magnitude_type\", \"station_elevation_m\", ])"
   ]
  },
  {
   "cell_type": "code",
   "execution_count": 66,
   "metadata": {},
   "outputs": [],
   "source": [
    "# Temporal train-test split (until 2024-01-01 is train, the rest is test)\n",
    "X_train = X.loc[X.time_utc < \"2024-01-01\"]\n",
    "X_test = X.loc[X.time_utc >= \"2024-01-30\"]\n",
    "\n",
    "y_train = y.loc[X.time_utc < \"2024-01-01\"]\n",
    "y_test = y.loc[X.time_utc >= \"2024-01-30\"]\n",
    "\n",
    "X_train = X_train.drop(columns=[\"time_utc\"])\n",
    "X_test = X_test.drop(columns=[\"time_utc\"])"
   ]
  },
  {
   "cell_type": "code",
   "execution_count": 67,
   "metadata": {},
   "outputs": [
    {
     "data": {
      "text/plain": [
       "latitude                  float64\n",
       "longitude                 float64\n",
       "depth_km                  float64\n",
       "magnitude                 float64\n",
       "event_type                  int64\n",
       "magnitude_ml              float64\n",
       "distance_to_station_km    float64\n",
       "rolling_mean_depth        float64\n",
       "T_since_last_days         float64\n",
       "b_value                   float64\n",
       "b_value_shift2            float64\n",
       "Delta_b_i_i_2             float64\n",
       "M_last_week_max           float64\n",
       "N_eq_30                   float64\n",
       "etas_intensity            float64\n",
       "year                        int32\n",
       "month                       int32\n",
       "day                         int32\n",
       "hour                        int32\n",
       "minute                      int32\n",
       "dtype: object"
      ]
     },
     "execution_count": 67,
     "metadata": {},
     "output_type": "execute_result"
    }
   ],
   "source": [
    "X_train.dtypes"
   ]
  },
  {
   "cell_type": "code",
   "execution_count": 68,
   "metadata": {},
   "outputs": [],
   "source": [
    "from xgboost import XGBRegressor\n",
    "from sklearn.linear_model import LinearRegression\n",
    "from sklearn.metrics import mean_squared_error, mean_absolute_error, r2_score\n",
    "\n",
    "model = XGBRegressor()"
   ]
  },
  {
   "cell_type": "code",
   "execution_count": 69,
   "metadata": {},
   "outputs": [
    {
     "name": "stdout",
     "output_type": "stream",
     "text": [
      "MSE: 0.3617526939252195\n",
      "MAE: 0.43769762934366874\n",
      "R2: -0.038493527429592556\n"
     ]
    }
   ],
   "source": [
    "model.fit(X_train, y_train)\n",
    "\n",
    "y_pred = model.predict(X_test)\n",
    "\n",
    "print(\"MSE:\", mean_squared_error(y_test, y_pred))\n",
    "print(\"MAE:\", mean_absolute_error(y_test, y_pred))\n",
    "print(\"R2:\", r2_score(y_test, y_pred))"
   ]
  },
  {
   "cell_type": "code",
   "execution_count": null,
   "metadata": {},
   "outputs": [],
   "source": []
  }
 ],
 "metadata": {
  "kernelspec": {
   "display_name": "Python 3",
   "language": "python",
   "name": "python3"
  },
  "language_info": {
   "codemirror_mode": {
    "name": "ipython",
    "version": 3
   },
   "file_extension": ".py",
   "mimetype": "text/x-python",
   "name": "python",
   "nbconvert_exporter": "python",
   "pygments_lexer": "ipython3",
   "version": "3.10.14"
  }
 },
 "nbformat": 4,
 "nbformat_minor": 2
}
